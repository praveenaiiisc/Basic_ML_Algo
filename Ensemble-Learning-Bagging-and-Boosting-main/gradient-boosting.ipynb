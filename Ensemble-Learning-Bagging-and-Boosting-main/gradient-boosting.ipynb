{
  "nbformat": 4,
  "nbformat_minor": 0,
  "metadata": {
    "colab": {
      "name": "SML_A4_Q1.ipynb",
      "provenance": []
    },
    "kernelspec": {
      "name": "python3",
      "display_name": "Python 3"
    },
    "language_info": {
      "name": "python"
    }
  },
  "cells": [
    {
      "cell_type": "markdown",
      "source": [
        "# importing important libraries"
      ],
      "metadata": {
        "id": "f_pYKgslg5ej"
      }
    },
    {
      "cell_type": "code",
      "execution_count": null,
      "metadata": {
        "id": "3XHQX1F3gsl2"
      },
      "outputs": [],
      "source": [
        "from sklearn.datasets import fetch_openml\n",
        "import matplotlib\n",
        "import matplotlib.pyplot as plt\n",
        "import numpy as np\n",
        "from sklearn.tree import DecisionTreeRegressor \n",
        "from sklearn.metrics import r2_score, explained_variance_score, confusion_matrix, accuracy_score, classification_report, mean_absolute_error\n",
        "import seaborn as sns"
      ]
    },
    {
      "cell_type": "markdown",
      "source": [
        "# Loading MNIST dataset"
      ],
      "metadata": {
        "id": "istbCER4iX7K"
      }
    },
    {
      "cell_type": "code",
      "source": [
        "mnist = fetch_openml('mnist_784')"
      ],
      "metadata": {
        "id": "LZDPRqDqg-fN"
      },
      "execution_count": null,
      "outputs": []
    },
    {
      "cell_type": "code",
      "source": [
        "x, y = mnist['data'], mnist['target']"
      ],
      "metadata": {
        "id": "p2KW4sBCiSQc"
      },
      "execution_count": null,
      "outputs": []
    },
    {
      "cell_type": "code",
      "source": [
        "x = np.array(x)\n",
        "y = np.array(y)"
      ],
      "metadata": {
        "id": "EHlRyhF4iW18"
      },
      "execution_count": null,
      "outputs": []
    },
    {
      "cell_type": "code",
      "source": [
        "x.shape\n"
      ],
      "metadata": {
        "colab": {
          "base_uri": "https://localhost:8080/"
        },
        "id": "QIvfVHmZi9f-",
        "outputId": "9c88602e-cbed-4a9f-cebb-e1cf30e69c59"
      },
      "execution_count": null,
      "outputs": [
        {
          "output_type": "execute_result",
          "data": {
            "text/plain": [
              "(70000, 784)"
            ]
          },
          "metadata": {},
          "execution_count": 6
        }
      ]
    },
    {
      "cell_type": "code",
      "source": [
        "y = y.astype('int')"
      ],
      "metadata": {
        "id": "NnqHNqRyi-UF"
      },
      "execution_count": null,
      "outputs": []
    },
    {
      "cell_type": "code",
      "source": [
        "x_train, x_test = x[:60000], x[60000:70000]\n",
        "y_train, y_test = y[:60000], y[60000:70000]"
      ],
      "metadata": {
        "id": "BfTQusQpvQbj"
      },
      "execution_count": null,
      "outputs": []
    },
    {
      "cell_type": "code",
      "source": [
        "x_train.shape"
      ],
      "metadata": {
        "colab": {
          "base_uri": "https://localhost:8080/"
        },
        "id": "uWCULNwoF6U2",
        "outputId": "06bbe691-5159-4074-e6f6-ca6a4a806afb"
      },
      "execution_count": null,
      "outputs": [
        {
          "output_type": "execute_result",
          "data": {
            "text/plain": [
              "(60000, 784)"
            ]
          },
          "metadata": {},
          "execution_count": 9
        }
      ]
    },
    {
      "cell_type": "code",
      "source": [
        "x_test.shape"
      ],
      "metadata": {
        "colab": {
          "base_uri": "https://localhost:8080/"
        },
        "id": "7dkv4wNoF8jY",
        "outputId": "bc655a9d-1bb4-4493-c6b8-6fed0b7c3aab"
      },
      "execution_count": null,
      "outputs": [
        {
          "output_type": "execute_result",
          "data": {
            "text/plain": [
              "(10000, 784)"
            ]
          },
          "metadata": {},
          "execution_count": 10
        }
      ]
    },
    {
      "cell_type": "code",
      "source": [
        "y_train.shape"
      ],
      "metadata": {
        "colab": {
          "base_uri": "https://localhost:8080/"
        },
        "id": "IcxjH9yUF8gE",
        "outputId": "8e5cdb4e-2b93-40b2-ca6d-63e3b58fe4fa"
      },
      "execution_count": null,
      "outputs": [
        {
          "output_type": "execute_result",
          "data": {
            "text/plain": [
              "(60000,)"
            ]
          },
          "metadata": {},
          "execution_count": 11
        }
      ]
    },
    {
      "cell_type": "code",
      "source": [
        "y_test.shape"
      ],
      "metadata": {
        "colab": {
          "base_uri": "https://localhost:8080/"
        },
        "id": "i1_6zShKGKAH",
        "outputId": "8f3451ab-29de-4e5e-f0db-a3e30986abdf"
      },
      "execution_count": null,
      "outputs": [
        {
          "output_type": "execute_result",
          "data": {
            "text/plain": [
              "(10000,)"
            ]
          },
          "metadata": {},
          "execution_count": 12
        }
      ]
    },
    {
      "cell_type": "markdown",
      "source": [
        "# Data visualisation "
      ],
      "metadata": {
        "id": "ipoiVqHvjF39"
      }
    },
    {
      "cell_type": "code",
      "source": [
        "some_image = x[520]\n",
        "some_image = some_image.reshape(28,28)\n",
        "plt.imshow(some_image, cmap=matplotlib.cm.binary,interpolation='nearest')"
      ],
      "metadata": {
        "colab": {
          "base_uri": "https://localhost:8080/",
          "height": 282
        },
        "id": "xK5ngl6gjJqe",
        "outputId": "2beecb30-bd23-4afa-a79f-57d1ddf93170"
      },
      "execution_count": null,
      "outputs": [
        {
          "output_type": "execute_result",
          "data": {
            "text/plain": [
              "<matplotlib.image.AxesImage at 0x7f37d2e28f10>"
            ]
          },
          "metadata": {},
          "execution_count": 13
        },
        {
          "output_type": "display_data",
          "data": {
            "text/plain": [
              "<Figure size 432x288 with 1 Axes>"
            ],
            "image/png": "[encoded data removed]"
          },
          "metadata": {
            "needs_background": "light"
          }
        }
      ]
    },
    {
      "cell_type": "code",
      "source": [
        "some_image = x[120]\n",
        "some_image = some_image.reshape(28,28)\n",
        "plt.imshow(some_image, cmap=matplotlib.cm.binary,interpolation='nearest')"
      ],
      "metadata": {
        "colab": {
          "base_uri": "https://localhost:8080/",
          "height": 282
        },
        "id": "y_Mb0VruklYu",
        "outputId": "08b9edb9-c344-4229-fd99-14ff7acc145c"
      },
      "execution_count": null,
      "outputs": [
        {
          "output_type": "execute_result",
          "data": {
            "text/plain": [
              "<matplotlib.image.AxesImage at 0x7f37d298c690>"
            ]
          },
          "metadata": {},
          "execution_count": 14
        },
        {
          "output_type": "display_data",
          "data": {
            "text/plain": [
              "<Figure size 432x288 with 1 Axes>"
            ],
            "image/png": "[encoded data removed]"
          },
          "metadata": {
            "needs_background": "light"
          }
        }
      ]
    },
    {
      "cell_type": "code",
      "source": [
        "some_image = x[69]\n",
        "some_image = some_image.reshape(28,28)\n",
        "plt.imshow(some_image, cmap=matplotlib.cm.binary,interpolation='nearest')"
      ],
      "metadata": {
        "colab": {
          "base_uri": "https://localhost:8080/",
          "height": 282
        },
        "id": "6it7wuxkksUs",
        "outputId": "ee8fa02e-178d-4d66-8e44-e3c635253ab3"
      },
      "execution_count": null,
      "outputs": [
        {
          "output_type": "execute_result",
          "data": {
            "text/plain": [
              "<matplotlib.image.AxesImage at 0x7f37d293ca90>"
            ]
          },
          "metadata": {},
          "execution_count": 15
        },
        {
          "output_type": "display_data",
          "data": {
            "text/plain": [
              "<Figure size 432x288 with 1 Axes>"
            ],
            "image/png": "[encoded data removed]"
          },
          "metadata": {
            "needs_background": "light"
          }
        }
      ]
    },
    {
      "cell_type": "markdown",
      "source": [
        "# Applying DecisionTreeRegressor as base model"
      ],
      "metadata": {
        "id": "-PLH_0eNkxOs"
      }
    },
    {
      "cell_type": "markdown",
      "source": [
        "# Assumption depth size 1"
      ],
      "metadata": {
        "id": "lcgkQGzxzSCr"
      }
    },
    {
      "cell_type": "code",
      "source": [
        "lr = 0.1   #learning rate"
      ],
      "metadata": {
        "id": "6gteyAK5ZAQV"
      },
      "execution_count": null,
      "outputs": []
    },
    {
      "cell_type": "code",
      "source": [
        "dt = DecisionTreeRegressor(max_depth = 1)\n",
        "dt.fit(x_train,y_train)"
      ],
      "metadata": {
        "colab": {
          "base_uri": "https://localhost:8080/"
        },
        "id": "mnr06_RBxbQR",
        "outputId": "8c059841-be33-4e3d-a1d9-ce447ffb388a"
      },
      "execution_count": null,
      "outputs": [
        {
          "output_type": "execute_result",
          "data": {
            "text/plain": [
              "DecisionTreeRegressor(max_depth=1)"
            ]
          },
          "metadata": {},
          "execution_count": 16
        }
      ]
    },
    {
      "cell_type": "code",
      "source": [
        "y_pred = dt.predict(x_test)"
      ],
      "metadata": {
        "id": "NAIQG2orxo8P"
      },
      "execution_count": null,
      "outputs": []
    },
    {
      "cell_type": "code",
      "source": [
        "y_pred[:10]"
      ],
      "metadata": {
        "colab": {
          "base_uri": "https://localhost:8080/"
        },
        "id": "J4DnqXgwxyor",
        "outputId": "91150201-5057-45ad-9020-1474c0c012ea"
      },
      "execution_count": null,
      "outputs": [
        {
          "output_type": "execute_result",
          "data": {
            "text/plain": [
              "array([5.36713732, 2.6254691 , 2.6254691 , 2.6254691 , 5.36713732,\n",
              "       2.6254691 , 5.36713732, 5.36713732, 2.6254691 , 5.36713732])"
            ]
          },
          "metadata": {},
          "execution_count": 18
        }
      ]
    },
    {
      "cell_type": "code",
      "source": [
        "mae = mean_absolute_error(y_test,  y_pred)\n",
        "mae"
      ],
      "metadata": {
        "colab": {
          "base_uri": "https://localhost:8080/"
        },
        "id": "IZYYYSdvC0jR",
        "outputId": "f1cb4cea-dcae-424b-aa07-139d099ca1ab"
      },
      "execution_count": null,
      "outputs": [
        {
          "output_type": "execute_result",
          "data": {
            "text/plain": [
              "2.2267110373114707"
            ]
          },
          "metadata": {},
          "execution_count": 20
        }
      ]
    },
    {
      "cell_type": "code",
      "source": [
        "score = r2_score(y_test, y_pred)\n",
        "score"
      ],
      "metadata": {
        "colab": {
          "base_uri": "https://localhost:8080/"
        },
        "id": "-XlKhgKeC7LB",
        "outputId": "db8c1e1d-e3b4-45f0-b9f6-957ad7c875ec"
      },
      "execution_count": null,
      "outputs": [
        {
          "output_type": "execute_result",
          "data": {
            "text/plain": [
              "0.22100481734722877"
            ]
          },
          "metadata": {},
          "execution_count": 21
        }
      ]
    },
    {
      "cell_type": "code",
      "source": [
        "y_pred = np.round(y_pred)"
      ],
      "metadata": {
        "id": "PKniTESbINMH"
      },
      "execution_count": null,
      "outputs": []
    },
    {
      "cell_type": "code",
      "source": [
        "print(accuracy_score( y_test, y_pred))    # accuracy"
      ],
      "metadata": {
        "colab": {
          "base_uri": "https://localhost:8080/"
        },
        "id": "LzCOtTETI9HH",
        "outputId": "769ca640-fddd-471f-a340-317ce75aa9c2"
      },
      "execution_count": null,
      "outputs": [
        {
          "output_type": "stream",
          "name": "stdout",
          "text": [
            "0.0716\n"
          ]
        }
      ]
    },
    {
      "cell_type": "markdown",
      "source": [
        "# Iteration 1"
      ],
      "metadata": {
        "id": "9DWim3pwJs9D"
      }
    },
    {
      "cell_type": "code",
      "source": [
        "y_it1 = dt.predict(x_train)\n",
        "y_it1 = np.round(y_it1)"
      ],
      "metadata": {
        "id": "6FDjOuQhWZSi"
      },
      "execution_count": null,
      "outputs": []
    },
    {
      "cell_type": "code",
      "source": [
        "y_train1 = y_train - y_it1"
      ],
      "metadata": {
        "id": "Q2LEqM54JC_r"
      },
      "execution_count": null,
      "outputs": []
    },
    {
      "cell_type": "code",
      "source": [
        "dt1 = DecisionTreeRegressor(max_depth = 1)\n",
        "dt1.fit(x_train,  y_train1)"
      ],
      "metadata": {
        "colab": {
          "base_uri": "https://localhost:8080/"
        },
        "id": "nIgpRvOsK_lT",
        "outputId": "b4e27880-dae3-4530-93cc-84e2ca36940d"
      },
      "execution_count": null,
      "outputs": [
        {
          "output_type": "execute_result",
          "data": {
            "text/plain": [
              "DecisionTreeRegressor(max_depth=1)"
            ]
          },
          "metadata": {},
          "execution_count": 52
        }
      ]
    },
    {
      "cell_type": "code",
      "source": [
        "y_pred1 = dt1.predict(x_test)\n",
        "y_pred1 = np.round(y_pred1)\n",
        "print(accuracy_score( y_test, y_pred + y_pred1 ))    # accuracy"
      ],
      "metadata": {
        "colab": {
          "base_uri": "https://localhost:8080/"
        },
        "id": "__zwHsDYK_fl",
        "outputId": "0a17e764-6709-47c2-adc4-30b42555f6b3"
      },
      "execution_count": null,
      "outputs": [
        {
          "output_type": "stream",
          "name": "stdout",
          "text": [
            "0.1238\n"
          ]
        }
      ]
    },
    {
      "cell_type": "markdown",
      "source": [
        "# Iteration 2"
      ],
      "metadata": {
        "id": "7bSXoLL-aYng"
      }
    },
    {
      "cell_type": "code",
      "source": [
        "y_it2 = dt1.predict(x_train)\n",
        "y_it2 = np.round(y_it2)"
      ],
      "metadata": {
        "id": "CVBobu_iaaqY"
      },
      "execution_count": null,
      "outputs": []
    },
    {
      "cell_type": "code",
      "source": [
        "y_train2 = y_train1 - y_it2"
      ],
      "metadata": {
        "id": "rNe8Ou2wa6Qw"
      },
      "execution_count": null,
      "outputs": []
    },
    {
      "cell_type": "code",
      "source": [
        "dt2 = DecisionTreeRegressor(max_depth = 1)\n",
        "dt2.fit(x_train,  y_train2)"
      ],
      "metadata": {
        "colab": {
          "base_uri": "https://localhost:8080/"
        },
        "id": "8oFbiTWNbLdH",
        "outputId": "f16e1916-739c-4317-c5c7-7f2015692cd7"
      },
      "execution_count": null,
      "outputs": [
        {
          "output_type": "execute_result",
          "data": {
            "text/plain": [
              "DecisionTreeRegressor(max_depth=1)"
            ]
          },
          "metadata": {},
          "execution_count": 56
        }
      ]
    },
    {
      "cell_type": "code",
      "source": [
        "y_pred2 = dt2.predict(x_test)\n",
        "y_pred2 = np.round(y_pred2) \n",
        "print(accuracy_score( y_test, y_pred + y_pred1 + y_pred2 ))    # accuracy"
      ],
      "metadata": {
        "colab": {
          "base_uri": "https://localhost:8080/"
        },
        "id": "sJBDJHNobRv3",
        "outputId": "b47b230b-4653-461a-f156-7b268dad7250"
      },
      "execution_count": null,
      "outputs": [
        {
          "output_type": "stream",
          "name": "stdout",
          "text": [
            "0.1371\n"
          ]
        }
      ]
    },
    {
      "cell_type": "markdown",
      "source": [
        "# Iteration 3"
      ],
      "metadata": {
        "id": "y4QnyQzjb4rx"
      }
    },
    {
      "cell_type": "code",
      "source": [
        "y_it3 = dt2.predict(x_train)\n",
        "y_it3 = np.round(y_it3)"
      ],
      "metadata": {
        "id": "GG8Lhm6Bb7N0"
      },
      "execution_count": null,
      "outputs": []
    },
    {
      "cell_type": "code",
      "source": [
        "y_train3 =  y_train2 - y_it3"
      ],
      "metadata": {
        "id": "6iqJl46wcBZ0"
      },
      "execution_count": null,
      "outputs": []
    },
    {
      "cell_type": "code",
      "source": [
        "dt3 = DecisionTreeRegressor(max_depth = 1)\n",
        "dt3.fit( x_train,  y_train3 )"
      ],
      "metadata": {
        "colab": {
          "base_uri": "https://localhost:8080/"
        },
        "id": "JDnVlkA7ccT8",
        "outputId": "e754bb22-d31d-47d6-db0a-8181f8dde353"
      },
      "execution_count": null,
      "outputs": [
        {
          "output_type": "execute_result",
          "data": {
            "text/plain": [
              "DecisionTreeRegressor(max_depth=1)"
            ]
          },
          "metadata": {},
          "execution_count": 60
        }
      ]
    },
    {
      "cell_type": "code",
      "source": [
        "y_pred3 = dt3.predict(x_test)\n",
        "y_pred3 = np.round(y_pred3) \n",
        "print(accuracy_score( y_test, y_pred + y_pred1 + y_pred2 + y_pred3 ))    # accuracy"
      ],
      "metadata": {
        "colab": {
          "base_uri": "https://localhost:8080/"
        },
        "id": "n9mU9BdPciWa",
        "outputId": "05bf500b-1045-4b66-ee35-3360818f059a"
      },
      "execution_count": null,
      "outputs": [
        {
          "output_type": "stream",
          "name": "stdout",
          "text": [
            "0.1934\n"
          ]
        }
      ]
    },
    {
      "cell_type": "markdown",
      "source": [
        "# Iteration 4"
      ],
      "metadata": {
        "id": "DmEtP6k3fE0J"
      }
    },
    {
      "cell_type": "code",
      "source": [
        "y_it4 = dt3.predict(x_train)\n",
        "y_it4 = np.round(y_it4)"
      ],
      "metadata": {
        "id": "j8bvjD_XfILQ"
      },
      "execution_count": null,
      "outputs": []
    },
    {
      "cell_type": "code",
      "source": [
        "y_train4 =  y_train3 - y_it4"
      ],
      "metadata": {
        "id": "Ndt6h-rNigVd"
      },
      "execution_count": null,
      "outputs": []
    },
    {
      "cell_type": "code",
      "source": [
        "dt4 = DecisionTreeRegressor(max_depth = 1)\n",
        "dt4.fit( x_train,  y_train4 )"
      ],
      "metadata": {
        "colab": {
          "base_uri": "https://localhost:8080/"
        },
        "id": "1x51f6L2iaHF",
        "outputId": "b08ab301-cf48-4163-88db-e483ba93b4e2"
      },
      "execution_count": null,
      "outputs": [
        {
          "output_type": "execute_result",
          "data": {
            "text/plain": [
              "DecisionTreeRegressor(max_depth=1)"
            ]
          },
          "metadata": {},
          "execution_count": 64
        }
      ]
    },
    {
      "cell_type": "code",
      "source": [
        "y_pred4 = dt4.predict(x_test)\n",
        "y_pred4 = np.round(y_pred4) \n",
        "print(accuracy_score( y_test, y_pred + y_pred1 + y_pred2 + y_pred3 + y_pred4))    # accuracy"
      ],
      "metadata": {
        "colab": {
          "base_uri": "https://localhost:8080/"
        },
        "id": "6o7dHD7Dib00",
        "outputId": "84df4013-8afe-4536-ac88-dfc5e0c265ca"
      },
      "execution_count": null,
      "outputs": [
        {
          "output_type": "stream",
          "name": "stdout",
          "text": [
            "0.1447\n"
          ]
        }
      ]
    },
    {
      "cell_type": "markdown",
      "source": [
        "# Iteration 5"
      ],
      "metadata": {
        "id": "VHnx-BQdkM6g"
      }
    },
    {
      "cell_type": "code",
      "source": [
        "y_it5 = dt4.predict(x_train)\n",
        "y_it5 = np.round(y_it5)"
      ],
      "metadata": {
        "id": "ZMTz4qAbjfdg"
      },
      "execution_count": null,
      "outputs": []
    },
    {
      "cell_type": "code",
      "source": [
        "y_train5 =  y_train4 - y_it5"
      ],
      "metadata": {
        "id": "Ola1tmx1kTm5"
      },
      "execution_count": null,
      "outputs": []
    },
    {
      "cell_type": "code",
      "source": [
        "dt5 = DecisionTreeRegressor(max_depth = 1)\n",
        "dt5.fit( x_train,  y_train4 )"
      ],
      "metadata": {
        "colab": {
          "base_uri": "https://localhost:8080/"
        },
        "id": "J8cRdb1MkVoJ",
        "outputId": "bc22a0ef-ba08-4f6c-94c4-7c6da0784192"
      },
      "execution_count": null,
      "outputs": [
        {
          "output_type": "execute_result",
          "data": {
            "text/plain": [
              "DecisionTreeRegressor(max_depth=1)"
            ]
          },
          "metadata": {},
          "execution_count": 68
        }
      ]
    },
    {
      "cell_type": "code",
      "source": [
        "y_pred5 = dt5.predict(x_test)\n",
        "y_pred5 = np.round(y_pred5) \n",
        "print(accuracy_score( y_test, y_pred + y_pred1 + y_pred2 + y_pred3 + y_pred4 + y_pred5 ))    # accuracy"
      ],
      "metadata": {
        "colab": {
          "base_uri": "https://localhost:8080/"
        },
        "id": "4mxMJl7bkX3w",
        "outputId": "5b9700cc-bbcd-488e-a86a-490e8f6fc4b0"
      },
      "execution_count": null,
      "outputs": [
        {
          "output_type": "stream",
          "name": "stdout",
          "text": [
            "0.1544\n"
          ]
        }
      ]
    }
  ]
}